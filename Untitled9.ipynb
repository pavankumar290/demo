{
  "nbformat": 4,
  "nbformat_minor": 0,
  "metadata": {
    "colab": {
      "provenance": [],
      "toc_visible": true
    },
    "kernelspec": {
      "name": "python3",
      "display_name": "Python 3"
    },
    "language_info": {
      "name": "python"
    }
  },
  "cells": [
    {
      "cell_type": "code",
      "source": [
        "from pyspark.sql import SparkSession\n",
        "spark = SparkSession.builder.appName(\"sparkpractice\").getOrCreate()\n"
      ],
      "metadata": {
        "id": "Wj8bcuUTJc2K"
      },
      "execution_count": 45,
      "outputs": []
    },
    {
      "cell_type": "code",
      "source": [
        "df=spark.read.csv('/content/Retail_Transactions_Dataset.csv',header=True,inferSchema=True)"
      ],
      "metadata": {
        "id": "7R9VvgAGJp6o"
      },
      "execution_count": 46,
      "outputs": []
    },
    {
      "cell_type": "code",
      "source": [
        "df1=df.filter((df.Total_Cost)>50)\n",
        "df1.show()\n"
      ],
      "metadata": {
        "colab": {
          "base_uri": "https://localhost:8080/"
        },
        "id": "GK1iZcA_Lfb-",
        "outputId": "4743c9ed-35cb-4d73-80d9-df8fa5ffb90d"
      },
      "execution_count": 47,
      "outputs": [
        {
          "output_type": "stream",
          "name": "stdout",
          "text": [
            "+--------------+-------------------+-----------------+--------------------+-----------+----------+--------------+-------------+-----------------+----------------+-----------------+------+--------------------+\n",
            "|Transaction_ID|               Date|    Customer_Name|             Product|Total_Items|Total_Cost|Payment_Method|         City|       Store_Type|Discount_Applied|Customer_Category|Season|           Promotion|\n",
            "+--------------+-------------------+-----------------+--------------------+-----------+----------+--------------+-------------+-----------------+----------------+-----------------+------+--------------------+\n",
            "|    1000000000|2022-01-21 06:27:29|     Stacey Price|['Ketchup', 'Shav...|          3|     71.65|Mobile Payment|  Los Angeles|   Warehouse Club|            true|        Homemaker|Winter|                None|\n",
            "|    1000000005|2021-10-07 12:37:26|   Joshua Frazier|['Toothpaste', 'C...|          3|     72.24|          Cash|      Houston|      Supermarket|            true|          Retiree|Spring|Discount on Selec...|\n",
            "|    1000000008|2021-04-05 06:32:18|  Kimberly Morgan|['Insect Repellent']|          4|     55.25|Mobile Payment|  Los Angeles|   Warehouse Club|           false|        Homemaker|  Fall|                None|\n",
            "|    1000000010|2020-03-18 18:58:18|  Randall Roberts|['Extension Cords...|          8|     91.59|    Debit Card|       Boston| Department Store|            true|      Middle-Aged|  Fall|BOGO (Buy One Get...|\n",
            "|    1000000016|2021-10-15 13:24:31|        Eric Wall|['Air Freshener',...|          5|      99.7|Mobile Payment|        Miami|  Specialty Store|            true|        Homemaker|Spring|                None|\n",
            "|    1000000018|2022-07-18 11:33:28|  Dominique Stout|['Mustard', 'Dust...|          3|     98.28|Mobile Payment|     New York|   Warehouse Club|           false|     Professional|  Fall|BOGO (Buy One Get...|\n",
            "|    1000000019|2021-01-31 07:52:18|   Charles Brooks|          ['Coffee']|          7|     96.77|    Debit Card|      Chicago| Department Store|            true|        Homemaker|Winter|Discount on Selec...|\n",
            "|    1000000020|2021-10-31 07:46:22|     Angela Jones|['Pancake Mix', '...|          7|     83.86|          Cash|      Houston|         Pharmacy|           false|         Teenager|Winter|Discount on Selec...|\n",
            "|    1000000029|2020-02-27 10:23:56|   Dennis Alvarez|['Tea', 'Salmon',...|          7|     75.38|Mobile Payment|      Houston|Convenience Store|            true|         Teenager|Summer|Discount on Selec...|\n",
            "|    1000000030|2023-01-08 22:59:24|        Jose Hill|       ['Olive Oil']|          1|     73.17|    Debit Card|       Boston|  Specialty Store|            true|   Senior Citizen|Spring|                None|\n",
            "|    1000000035|2022-10-12 11:57:51|         Ann Kane|['Onions', 'Dish ...|         10|     62.33|   Credit Card|        Miami|   Warehouse Club|           false|      Young Adult|Spring|                None|\n",
            "|    1000000038|2020-07-11 22:15:24| Kimberly Baldwin|['Shower Gel', 'D...|          7|     61.55|   Credit Card|     New York|Convenience Store|           false|          Student|  Fall|                None|\n",
            "|    1000000041|2023-07-01 20:11:15|   Rebecca Morton|['Shaving Cream',...|          8|     56.99|    Debit Card|        Miami|  Specialty Store|            true|          Retiree|Summer|Discount on Selec...|\n",
            "|    1000000042|2023-11-13 12:48:32| Nicole Hernandez|['Lawn Mower', 'E...|          9|     99.77|          Cash|       Boston|  Specialty Store|            true|     Professional|Spring|Discount on Selec...|\n",
            "|    1000000044|2022-09-21 05:09:33|Mr. Lance Perkins|['Bread', 'Dustpa...|          7|     89.97|          Cash|      Atlanta| Department Store|           false|      Middle-Aged|Winter|                None|\n",
            "|    1000000045|2022-10-28 18:17:19|      Kelly Foley|            ['Soap']|          2|     83.55|   Credit Card|      Chicago|Convenience Store|           false|     Professional|Spring|Discount on Selec...|\n",
            "|    1000000047|2023-02-06 01:31:51| Roberto Franklin|['Pasta', 'Olive ...|          7|     76.09|Mobile Payment|  Los Angeles|Convenience Store|            true|          Retiree|Summer|                None|\n",
            "|    1000000048|2024-04-17 00:49:23|  Steven Clements|['Beef', 'Milk', ...|         10|     55.69|   Credit Card|      Seattle| Department Store|            true|         Teenager|Summer|Discount on Selec...|\n",
            "|    1000000049|2021-06-24 14:01:31|   Katherine Luna|             ['Tea']|          3|     61.53|          Cash|      Houston|   Warehouse Club|           false|          Retiree|Winter|Discount on Selec...|\n",
            "|    1000000050|2021-04-10 19:14:33|     Ryan Hammond|['Hand Sanitizer'...|          1|     78.46|Mobile Payment|San Francisco|      Supermarket|           false|         Teenager|Summer|Discount on Selec...|\n",
            "+--------------+-------------------+-----------------+--------------------+-----------+----------+--------------+-------------+-----------------+----------------+-----------------+------+--------------------+\n",
            "only showing top 20 rows\n",
            "\n"
          ]
        }
      ]
    },
    {
      "cell_type": "code",
      "source": [
        "df2=df1.sort(df.Transaction_ID,df1.Total_Cost,df.Date)\n",
        "df2.show()"
      ],
      "metadata": {
        "colab": {
          "base_uri": "https://localhost:8080/"
        },
        "id": "NOe_jvkoPYEN",
        "outputId": "b14a980b-b04d-4725-b361-dff035030896"
      },
      "execution_count": 48,
      "outputs": [
        {
          "output_type": "stream",
          "name": "stdout",
          "text": [
            "+--------------+-------------------+-----------------+--------------------+-----------+----------+--------------+-------------+-----------------+----------------+-----------------+------+--------------------+\n",
            "|Transaction_ID|               Date|    Customer_Name|             Product|Total_Items|Total_Cost|Payment_Method|         City|       Store_Type|Discount_Applied|Customer_Category|Season|           Promotion|\n",
            "+--------------+-------------------+-----------------+--------------------+-----------+----------+--------------+-------------+-----------------+----------------+-----------------+------+--------------------+\n",
            "|    1000000000|2022-01-21 06:27:29|     Stacey Price|['Ketchup', 'Shav...|          3|     71.65|Mobile Payment|  Los Angeles|   Warehouse Club|            true|        Homemaker|Winter|                None|\n",
            "|    1000000005|2021-10-07 12:37:26|   Joshua Frazier|['Toothpaste', 'C...|          3|     72.24|          Cash|      Houston|      Supermarket|            true|          Retiree|Spring|Discount on Selec...|\n",
            "|    1000000008|2021-04-05 06:32:18|  Kimberly Morgan|['Insect Repellent']|          4|     55.25|Mobile Payment|  Los Angeles|   Warehouse Club|           false|        Homemaker|  Fall|                None|\n",
            "|    1000000010|2020-03-18 18:58:18|  Randall Roberts|['Extension Cords...|          8|     91.59|    Debit Card|       Boston| Department Store|            true|      Middle-Aged|  Fall|BOGO (Buy One Get...|\n",
            "|    1000000016|2021-10-15 13:24:31|        Eric Wall|['Air Freshener',...|          5|      99.7|Mobile Payment|        Miami|  Specialty Store|            true|        Homemaker|Spring|                None|\n",
            "|    1000000018|2022-07-18 11:33:28|  Dominique Stout|['Mustard', 'Dust...|          3|     98.28|Mobile Payment|     New York|   Warehouse Club|           false|     Professional|  Fall|BOGO (Buy One Get...|\n",
            "|    1000000019|2021-01-31 07:52:18|   Charles Brooks|          ['Coffee']|          7|     96.77|    Debit Card|      Chicago| Department Store|            true|        Homemaker|Winter|Discount on Selec...|\n",
            "|    1000000020|2021-10-31 07:46:22|     Angela Jones|['Pancake Mix', '...|          7|     83.86|          Cash|      Houston|         Pharmacy|           false|         Teenager|Winter|Discount on Selec...|\n",
            "|    1000000029|2020-02-27 10:23:56|   Dennis Alvarez|['Tea', 'Salmon',...|          7|     75.38|Mobile Payment|      Houston|Convenience Store|            true|         Teenager|Summer|Discount on Selec...|\n",
            "|    1000000030|2023-01-08 22:59:24|        Jose Hill|       ['Olive Oil']|          1|     73.17|    Debit Card|       Boston|  Specialty Store|            true|   Senior Citizen|Spring|                None|\n",
            "|    1000000035|2022-10-12 11:57:51|         Ann Kane|['Onions', 'Dish ...|         10|     62.33|   Credit Card|        Miami|   Warehouse Club|           false|      Young Adult|Spring|                None|\n",
            "|    1000000038|2020-07-11 22:15:24| Kimberly Baldwin|['Shower Gel', 'D...|          7|     61.55|   Credit Card|     New York|Convenience Store|           false|          Student|  Fall|                None|\n",
            "|    1000000041|2023-07-01 20:11:15|   Rebecca Morton|['Shaving Cream',...|          8|     56.99|    Debit Card|        Miami|  Specialty Store|            true|          Retiree|Summer|Discount on Selec...|\n",
            "|    1000000042|2023-11-13 12:48:32| Nicole Hernandez|['Lawn Mower', 'E...|          9|     99.77|          Cash|       Boston|  Specialty Store|            true|     Professional|Spring|Discount on Selec...|\n",
            "|    1000000044|2022-09-21 05:09:33|Mr. Lance Perkins|['Bread', 'Dustpa...|          7|     89.97|          Cash|      Atlanta| Department Store|           false|      Middle-Aged|Winter|                None|\n",
            "|    1000000045|2022-10-28 18:17:19|      Kelly Foley|            ['Soap']|          2|     83.55|   Credit Card|      Chicago|Convenience Store|           false|     Professional|Spring|Discount on Selec...|\n",
            "|    1000000047|2023-02-06 01:31:51| Roberto Franklin|['Pasta', 'Olive ...|          7|     76.09|Mobile Payment|  Los Angeles|Convenience Store|            true|          Retiree|Summer|                None|\n",
            "|    1000000048|2024-04-17 00:49:23|  Steven Clements|['Beef', 'Milk', ...|         10|     55.69|   Credit Card|      Seattle| Department Store|            true|         Teenager|Summer|Discount on Selec...|\n",
            "|    1000000049|2021-06-24 14:01:31|   Katherine Luna|             ['Tea']|          3|     61.53|          Cash|      Houston|   Warehouse Club|           false|          Retiree|Winter|Discount on Selec...|\n",
            "|    1000000050|2021-04-10 19:14:33|     Ryan Hammond|['Hand Sanitizer'...|          1|     78.46|Mobile Payment|San Francisco|      Supermarket|           false|         Teenager|Summer|Discount on Selec...|\n",
            "+--------------+-------------------+-----------------+--------------------+-----------+----------+--------------+-------------+-----------------+----------------+-----------------+------+--------------------+\n",
            "only showing top 20 rows\n",
            "\n"
          ]
        }
      ]
    },
    {
      "cell_type": "code",
      "source": [
        "df3=df.filter(df.Discount_Applied==True)\n",
        "df3.write.mode('overwrite').option(\"header\", \"true\").csv(\"Discount_Applied.csv\")"
      ],
      "metadata": {
        "id": "EpC2vCC8SQ51"
      },
      "execution_count": 49,
      "outputs": []
    },
    {
      "cell_type": "code",
      "source": [
        "df4=df.filter(df.Discount_Applied==False)\n",
        "df4.write.mode('overwrite').option(\"header\", \"true\").csv(\"Discount_Not_Applied.csv\")"
      ],
      "metadata": {
        "id": "9s9c-EUaT6BY"
      },
      "execution_count": 50,
      "outputs": []
    }
  ]
}